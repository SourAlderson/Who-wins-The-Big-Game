{
 "cells": [
  {
   "cell_type": "code",
   "execution_count": 1,
   "metadata": {},
   "outputs": [],
   "source": [
    "import numpy as np\n",
    "import pandas as pd\n",
    "import matplotlib.pyplot as plt\n",
    "import seaborn as sns\n",
    "%matplotlib inline"
   ]
  },
  {
   "cell_type": "code",
   "execution_count": 2,
   "metadata": {},
   "outputs": [],
   "source": [
    "from sklearn import linear_model\n",
    "from sklearn.linear_model import LogisticRegression\n",
    "from sklearn.ensemble import RandomForestClassifier\n",
    "from sklearn.linear_model import Perceptron\n",
    "from sklearn.linear_model import SGDClassifier\n",
    "from sklearn.tree import DecisionTreeClassifier\n",
    "from sklearn.neighbors import KNeighborsClassifier\n",
    "from sklearn.svm import SVC, LinearSVC\n",
    "from sklearn.naive_bayes import GaussianNB\n",
    "from sklearn.model_selection import GridSearchCV"
   ]
  },
  {
   "cell_type": "code",
   "execution_count": 3,
   "metadata": {},
   "outputs": [],
   "source": [
    "train=pd.read_csv(\"C:/HackerEarthML/Dataset/train.csv\")"
   ]
  },
  {
   "cell_type": "code",
   "execution_count": 4,
   "metadata": {},
   "outputs": [],
   "source": [
    "test=pd.read_csv(\"C:/HackerEarthML/Dataset/test.csv\")"
   ]
  },
  {
   "cell_type": "code",
   "execution_count": 5,
   "metadata": {},
   "outputs": [
    {
     "data": {
      "text/html": [
       "<div>\n",
       "<style scoped>\n",
       "    .dataframe tbody tr th:only-of-type {\n",
       "        vertical-align: middle;\n",
       "    }\n",
       "\n",
       "    .dataframe tbody tr th {\n",
       "        vertical-align: top;\n",
       "    }\n",
       "\n",
       "    .dataframe thead th {\n",
       "        text-align: right;\n",
       "    }\n",
       "</style>\n",
       "<table border=\"1\" class=\"dataframe\">\n",
       "  <thead>\n",
       "    <tr style=\"text-align: right;\">\n",
       "      <th></th>\n",
       "      <th>Won_Championship</th>\n",
       "      <th>Previous_SB_Wins</th>\n",
       "      <th>Number_Of_Wins_This_Season</th>\n",
       "      <th>Number_Of_First_Round_Draft_Picks</th>\n",
       "      <th>Team_Value</th>\n",
       "      <th>Playing_Style</th>\n",
       "      <th>Average_Player_Age</th>\n",
       "      <th>Number_Of_Injured_Players</th>\n",
       "      <th>Coach_Experience_Level</th>\n",
       "      <th>ID</th>\n",
       "    </tr>\n",
       "  </thead>\n",
       "  <tbody>\n",
       "    <tr>\n",
       "      <th>0</th>\n",
       "      <td>0</td>\n",
       "      <td>3</td>\n",
       "      <td>13</td>\n",
       "      <td>2</td>\n",
       "      <td>Less_Than_Four_Billion</td>\n",
       "      <td>Balanced</td>\n",
       "      <td>27</td>\n",
       "      <td>five</td>\n",
       "      <td>Intermediate</td>\n",
       "      <td>6056</td>\n",
       "    </tr>\n",
       "    <tr>\n",
       "      <th>1</th>\n",
       "      <td>0</td>\n",
       "      <td>2</td>\n",
       "      <td>14</td>\n",
       "      <td>2</td>\n",
       "      <td>Less_Than_Four_Billion</td>\n",
       "      <td>Aggressive_Offense</td>\n",
       "      <td>26</td>\n",
       "      <td>five</td>\n",
       "      <td>Intermediate</td>\n",
       "      <td>9702</td>\n",
       "    </tr>\n",
       "    <tr>\n",
       "      <th>2</th>\n",
       "      <td>1</td>\n",
       "      <td>2</td>\n",
       "      <td>13</td>\n",
       "      <td>1</td>\n",
       "      <td>Less_Than_Four_Billion</td>\n",
       "      <td>Aggressive_Defense</td>\n",
       "      <td>27</td>\n",
       "      <td>four</td>\n",
       "      <td>Intermediate</td>\n",
       "      <td>1745</td>\n",
       "    </tr>\n",
       "    <tr>\n",
       "      <th>3</th>\n",
       "      <td>0</td>\n",
       "      <td>2</td>\n",
       "      <td>12</td>\n",
       "      <td>2</td>\n",
       "      <td>Above_Four_Billion</td>\n",
       "      <td>Balanced</td>\n",
       "      <td>27</td>\n",
       "      <td>six</td>\n",
       "      <td>Intermediate</td>\n",
       "      <td>4757</td>\n",
       "    </tr>\n",
       "    <tr>\n",
       "      <th>4</th>\n",
       "      <td>0</td>\n",
       "      <td>1</td>\n",
       "      <td>15</td>\n",
       "      <td>2</td>\n",
       "      <td>Less_Than_Four_Billion</td>\n",
       "      <td>Balanced</td>\n",
       "      <td>26</td>\n",
       "      <td>five</td>\n",
       "      <td>Intermediate</td>\n",
       "      <td>7242</td>\n",
       "    </tr>\n",
       "  </tbody>\n",
       "</table>\n",
       "</div>"
      ],
      "text/plain": [
       "   Won_Championship  Previous_SB_Wins  Number_Of_Wins_This_Season  \\\n",
       "0                 0                 3                          13   \n",
       "1                 0                 2                          14   \n",
       "2                 1                 2                          13   \n",
       "3                 0                 2                          12   \n",
       "4                 0                 1                          15   \n",
       "\n",
       "   Number_Of_First_Round_Draft_Picks              Team_Value  \\\n",
       "0                                  2  Less_Than_Four_Billion   \n",
       "1                                  2  Less_Than_Four_Billion   \n",
       "2                                  1  Less_Than_Four_Billion   \n",
       "3                                  2      Above_Four_Billion   \n",
       "4                                  2  Less_Than_Four_Billion   \n",
       "\n",
       "        Playing_Style  Average_Player_Age Number_Of_Injured_Players  \\\n",
       "0            Balanced                  27                      five   \n",
       "1  Aggressive_Offense                  26                      five   \n",
       "2  Aggressive_Defense                  27                      four   \n",
       "3            Balanced                  27                       six   \n",
       "4            Balanced                  26                      five   \n",
       "\n",
       "  Coach_Experience_Level    ID  \n",
       "0           Intermediate  6056  \n",
       "1           Intermediate  9702  \n",
       "2           Intermediate  1745  \n",
       "3           Intermediate  4757  \n",
       "4           Intermediate  7242  "
      ]
     },
     "execution_count": 5,
     "metadata": {},
     "output_type": "execute_result"
    }
   ],
   "source": [
    "train.head()"
   ]
  },
  {
   "cell_type": "code",
   "execution_count": 6,
   "metadata": {},
   "outputs": [
    {
     "name": "stdout",
     "output_type": "stream",
     "text": [
      "<class 'pandas.core.frame.DataFrame'>\n",
      "RangeIndex: 6500 entries, 0 to 6499\n",
      "Data columns (total 10 columns):\n",
      "Won_Championship                     6500 non-null int64\n",
      "Previous_SB_Wins                     6500 non-null int64\n",
      "Number_Of_Wins_This_Season           6500 non-null int64\n",
      "Number_Of_First_Round_Draft_Picks    6500 non-null int64\n",
      "Team_Value                           6500 non-null object\n",
      "Playing_Style                        6500 non-null object\n",
      "Average_Player_Age                   6500 non-null int64\n",
      "Number_Of_Injured_Players            6500 non-null object\n",
      "Coach_Experience_Level               6500 non-null object\n",
      "ID                                   6500 non-null int64\n",
      "dtypes: int64(6), object(4)\n",
      "memory usage: 507.9+ KB\n"
     ]
    }
   ],
   "source": [
    "train.info()"
   ]
  },
  {
   "cell_type": "markdown",
   "metadata": {},
   "source": [
    "### Team_Value"
   ]
  },
  {
   "cell_type": "code",
   "execution_count": 7,
   "metadata": {},
   "outputs": [
    {
     "data": {
      "text/plain": [
       "count                       6500\n",
       "unique                         3\n",
       "top       Less_Than_Four_Billion\n",
       "freq                        5130\n",
       "Name: Team_Value, dtype: object"
      ]
     },
     "execution_count": 7,
     "metadata": {},
     "output_type": "execute_result"
    }
   ],
   "source": [
    "train.Team_Value.describe()"
   ]
  },
  {
   "cell_type": "code",
   "execution_count": 8,
   "metadata": {},
   "outputs": [
    {
     "data": {
      "text/plain": [
       "array(['Less_Than_Four_Billion', 'Above_Four_Billion',\n",
       "       'Less_Than_Three_Billion'], dtype=object)"
      ]
     },
     "execution_count": 8,
     "metadata": {},
     "output_type": "execute_result"
    }
   ],
   "source": [
    "train.Team_Value.unique()"
   ]
  },
  {
   "cell_type": "code",
   "execution_count": 9,
   "metadata": {},
   "outputs": [],
   "source": [
    "mapper={'Less_Than_Four_Billion':2,'Above_Four_Billion':3, 'Less_Than_Three_Billion':1}"
   ]
  },
  {
   "cell_type": "code",
   "execution_count": 10,
   "metadata": {},
   "outputs": [],
   "source": [
    "train.Team_Value=train.Team_Value.replace(mapper)"
   ]
  },
  {
   "cell_type": "code",
   "execution_count": 11,
   "metadata": {},
   "outputs": [
    {
     "data": {
      "text/plain": [
       "array([2, 3, 1], dtype=int64)"
      ]
     },
     "execution_count": 11,
     "metadata": {},
     "output_type": "execute_result"
    }
   ],
   "source": [
    "train.Team_Value.unique()"
   ]
  },
  {
   "cell_type": "markdown",
   "metadata": {},
   "source": [
    "### Playing_Style"
   ]
  },
  {
   "cell_type": "code",
   "execution_count": 12,
   "metadata": {},
   "outputs": [
    {
     "data": {
      "text/plain": [
       "count                   6500\n",
       "unique                     4\n",
       "top       Aggressive_Defense\n",
       "freq                    3204\n",
       "Name: Playing_Style, dtype: object"
      ]
     },
     "execution_count": 12,
     "metadata": {},
     "output_type": "execute_result"
    }
   ],
   "source": [
    "train.Playing_Style.describe()"
   ]
  },
  {
   "cell_type": "code",
   "execution_count": 13,
   "metadata": {},
   "outputs": [
    {
     "data": {
      "text/plain": [
       "array(['Balanced', 'Aggressive_Offense', 'Aggressive_Defense', 'Relaxed'],\n",
       "      dtype=object)"
      ]
     },
     "execution_count": 13,
     "metadata": {},
     "output_type": "execute_result"
    }
   ],
   "source": [
    "train.Playing_Style.unique()"
   ]
  },
  {
   "cell_type": "markdown",
   "metadata": {},
   "source": [
    "### Number_Of_Injured_Players"
   ]
  },
  {
   "cell_type": "code",
   "execution_count": 14,
   "metadata": {},
   "outputs": [
    {
     "data": {
      "text/plain": [
       "array(['five', 'four', 'six', 'three', 'seven', 'eight', 'two', 'nine',\n",
       "       'one', 'ten'], dtype=object)"
      ]
     },
     "execution_count": 14,
     "metadata": {},
     "output_type": "execute_result"
    }
   ],
   "source": [
    "train.Number_Of_Injured_Players.unique()"
   ]
  },
  {
   "cell_type": "code",
   "execution_count": 15,
   "metadata": {},
   "outputs": [],
   "source": [
    "mapper2={'five':5, 'four':4, 'six':6, 'three':3, 'seven':7, 'eight':8, 'two':2, 'nine':9,'one':1, 'ten':10}"
   ]
  },
  {
   "cell_type": "code",
   "execution_count": 16,
   "metadata": {},
   "outputs": [],
   "source": [
    "train.Number_Of_Injured_Players=train.Number_Of_Injured_Players.replace(mapper2)"
   ]
  },
  {
   "cell_type": "code",
   "execution_count": 17,
   "metadata": {},
   "outputs": [
    {
     "data": {
      "text/plain": [
       "count    6500.000000\n",
       "mean        5.425692\n",
       "std         1.310832\n",
       "min         1.000000\n",
       "25%         5.000000\n",
       "50%         5.000000\n",
       "75%         6.000000\n",
       "max        10.000000\n",
       "Name: Number_Of_Injured_Players, dtype: float64"
      ]
     },
     "execution_count": 17,
     "metadata": {},
     "output_type": "execute_result"
    }
   ],
   "source": [
    "train.Number_Of_Injured_Players.describe()"
   ]
  },
  {
   "cell_type": "markdown",
   "metadata": {},
   "source": [
    "### Coach_Experience_Level"
   ]
  },
  {
   "cell_type": "code",
   "execution_count": 18,
   "metadata": {},
   "outputs": [
    {
     "data": {
      "text/plain": [
       "array(['Intermediate', 'Beginner', 'Advanced'], dtype=object)"
      ]
     },
     "execution_count": 18,
     "metadata": {},
     "output_type": "execute_result"
    }
   ],
   "source": [
    "train.Coach_Experience_Level.unique()"
   ]
  },
  {
   "cell_type": "code",
   "execution_count": 19,
   "metadata": {},
   "outputs": [],
   "source": [
    "mapper3={'Intermediate':2, 'Beginner':1, 'Advanced':3}"
   ]
  },
  {
   "cell_type": "code",
   "execution_count": 20,
   "metadata": {},
   "outputs": [],
   "source": [
    "train.Coach_Experience_Level=train.Coach_Experience_Level.replace(mapper3)"
   ]
  },
  {
   "cell_type": "code",
   "execution_count": 21,
   "metadata": {},
   "outputs": [
    {
     "name": "stdout",
     "output_type": "stream",
     "text": [
      "<class 'pandas.core.frame.DataFrame'>\n",
      "RangeIndex: 6500 entries, 0 to 6499\n",
      "Data columns (total 10 columns):\n",
      "Won_Championship                     6500 non-null int64\n",
      "Previous_SB_Wins                     6500 non-null int64\n",
      "Number_Of_Wins_This_Season           6500 non-null int64\n",
      "Number_Of_First_Round_Draft_Picks    6500 non-null int64\n",
      "Team_Value                           6500 non-null int64\n",
      "Playing_Style                        6500 non-null object\n",
      "Average_Player_Age                   6500 non-null int64\n",
      "Number_Of_Injured_Players            6500 non-null int64\n",
      "Coach_Experience_Level               6500 non-null int64\n",
      "ID                                   6500 non-null int64\n",
      "dtypes: int64(9), object(1)\n",
      "memory usage: 507.9+ KB\n"
     ]
    }
   ],
   "source": [
    "train.info()"
   ]
  },
  {
   "cell_type": "code",
   "execution_count": 22,
   "metadata": {},
   "outputs": [
    {
     "data": {
      "text/plain": [
       "Won_Championship                     0\n",
       "Previous_SB_Wins                     0\n",
       "Number_Of_Wins_This_Season           0\n",
       "Number_Of_First_Round_Draft_Picks    0\n",
       "Team_Value                           0\n",
       "Playing_Style                        0\n",
       "Average_Player_Age                   0\n",
       "Number_Of_Injured_Players            0\n",
       "Coach_Experience_Level               0\n",
       "ID                                   0\n",
       "dtype: int64"
      ]
     },
     "execution_count": 22,
     "metadata": {},
     "output_type": "execute_result"
    }
   ],
   "source": [
    "train.isnull().sum()"
   ]
  },
  {
   "cell_type": "code",
   "execution_count": 23,
   "metadata": {},
   "outputs": [
    {
     "data": {
      "text/plain": [
       "Index(['Won_Championship', 'Previous_SB_Wins', 'Number_Of_Wins_This_Season',\n",
       "       'Number_Of_First_Round_Draft_Picks', 'Team_Value', 'Playing_Style',\n",
       "       'Average_Player_Age', 'Number_Of_Injured_Players',\n",
       "       'Coach_Experience_Level', 'ID'],\n",
       "      dtype='object')"
      ]
     },
     "execution_count": 23,
     "metadata": {},
     "output_type": "execute_result"
    }
   ],
   "source": [
    "train.columns"
   ]
  },
  {
   "cell_type": "markdown",
   "metadata": {},
   "source": [
    "### Feature Selection"
   ]
  },
  {
   "cell_type": "code",
   "execution_count": 24,
   "metadata": {},
   "outputs": [],
   "source": [
    "features=['Previous_SB_Wins', 'Number_Of_Wins_This_Season',\n",
    "       'Number_Of_First_Round_Draft_Picks', 'Team_Value', 'Playing_Style',\n",
    "       'Average_Player_Age', 'Number_Of_Injured_Players',\n",
    "       'Coach_Experience_Level']"
   ]
  },
  {
   "cell_type": "code",
   "execution_count": 25,
   "metadata": {},
   "outputs": [],
   "source": [
    "train_df=train[features]"
   ]
  },
  {
   "cell_type": "code",
   "execution_count": 26,
   "metadata": {},
   "outputs": [
    {
     "data": {
      "text/html": [
       "<div>\n",
       "<style scoped>\n",
       "    .dataframe tbody tr th:only-of-type {\n",
       "        vertical-align: middle;\n",
       "    }\n",
       "\n",
       "    .dataframe tbody tr th {\n",
       "        vertical-align: top;\n",
       "    }\n",
       "\n",
       "    .dataframe thead th {\n",
       "        text-align: right;\n",
       "    }\n",
       "</style>\n",
       "<table border=\"1\" class=\"dataframe\">\n",
       "  <thead>\n",
       "    <tr style=\"text-align: right;\">\n",
       "      <th></th>\n",
       "      <th>Previous_SB_Wins</th>\n",
       "      <th>Number_Of_Wins_This_Season</th>\n",
       "      <th>Number_Of_First_Round_Draft_Picks</th>\n",
       "      <th>Team_Value</th>\n",
       "      <th>Playing_Style</th>\n",
       "      <th>Average_Player_Age</th>\n",
       "      <th>Number_Of_Injured_Players</th>\n",
       "      <th>Coach_Experience_Level</th>\n",
       "    </tr>\n",
       "  </thead>\n",
       "  <tbody>\n",
       "    <tr>\n",
       "      <th>0</th>\n",
       "      <td>3</td>\n",
       "      <td>13</td>\n",
       "      <td>2</td>\n",
       "      <td>2</td>\n",
       "      <td>Balanced</td>\n",
       "      <td>27</td>\n",
       "      <td>5</td>\n",
       "      <td>2</td>\n",
       "    </tr>\n",
       "    <tr>\n",
       "      <th>1</th>\n",
       "      <td>2</td>\n",
       "      <td>14</td>\n",
       "      <td>2</td>\n",
       "      <td>2</td>\n",
       "      <td>Aggressive_Offense</td>\n",
       "      <td>26</td>\n",
       "      <td>5</td>\n",
       "      <td>2</td>\n",
       "    </tr>\n",
       "    <tr>\n",
       "      <th>2</th>\n",
       "      <td>2</td>\n",
       "      <td>13</td>\n",
       "      <td>1</td>\n",
       "      <td>2</td>\n",
       "      <td>Aggressive_Defense</td>\n",
       "      <td>27</td>\n",
       "      <td>4</td>\n",
       "      <td>2</td>\n",
       "    </tr>\n",
       "    <tr>\n",
       "      <th>3</th>\n",
       "      <td>2</td>\n",
       "      <td>12</td>\n",
       "      <td>2</td>\n",
       "      <td>3</td>\n",
       "      <td>Balanced</td>\n",
       "      <td>27</td>\n",
       "      <td>6</td>\n",
       "      <td>2</td>\n",
       "    </tr>\n",
       "    <tr>\n",
       "      <th>4</th>\n",
       "      <td>1</td>\n",
       "      <td>15</td>\n",
       "      <td>2</td>\n",
       "      <td>2</td>\n",
       "      <td>Balanced</td>\n",
       "      <td>26</td>\n",
       "      <td>5</td>\n",
       "      <td>2</td>\n",
       "    </tr>\n",
       "  </tbody>\n",
       "</table>\n",
       "</div>"
      ],
      "text/plain": [
       "   Previous_SB_Wins  Number_Of_Wins_This_Season  \\\n",
       "0                 3                          13   \n",
       "1                 2                          14   \n",
       "2                 2                          13   \n",
       "3                 2                          12   \n",
       "4                 1                          15   \n",
       "\n",
       "   Number_Of_First_Round_Draft_Picks  Team_Value       Playing_Style  \\\n",
       "0                                  2           2            Balanced   \n",
       "1                                  2           2  Aggressive_Offense   \n",
       "2                                  1           2  Aggressive_Defense   \n",
       "3                                  2           3            Balanced   \n",
       "4                                  2           2            Balanced   \n",
       "\n",
       "   Average_Player_Age  Number_Of_Injured_Players  Coach_Experience_Level  \n",
       "0                  27                          5                       2  \n",
       "1                  26                          5                       2  \n",
       "2                  27                          4                       2  \n",
       "3                  27                          6                       2  \n",
       "4                  26                          5                       2  "
      ]
     },
     "execution_count": 26,
     "metadata": {},
     "output_type": "execute_result"
    }
   ],
   "source": [
    "train_df.head()"
   ]
  },
  {
   "cell_type": "code",
   "execution_count": 27,
   "metadata": {},
   "outputs": [],
   "source": [
    "#train_df.var().sort_values()"
   ]
  },
  {
   "cell_type": "code",
   "execution_count": 28,
   "metadata": {},
   "outputs": [],
   "source": [
    "#train_df.drop([\"Coach_Experience_Level\",\"Team_Value\"],axis=1,inplace=True)"
   ]
  },
  {
   "cell_type": "code",
   "execution_count": 29,
   "metadata": {},
   "outputs": [
    {
     "data": {
      "text/plain": [
       "(6500, 8)"
      ]
     },
     "execution_count": 29,
     "metadata": {},
     "output_type": "execute_result"
    }
   ],
   "source": [
    "train_df.shape"
   ]
  },
  {
   "cell_type": "code",
   "execution_count": 30,
   "metadata": {},
   "outputs": [],
   "source": [
    "train_df=pd.get_dummies(train_df,drop_first=True) #getting rid of categorical values"
   ]
  },
  {
   "cell_type": "code",
   "execution_count": 31,
   "metadata": {},
   "outputs": [
    {
     "data": {
      "text/plain": [
       "(6500, 10)"
      ]
     },
     "execution_count": 31,
     "metadata": {},
     "output_type": "execute_result"
    }
   ],
   "source": [
    "train_df.shape"
   ]
  },
  {
   "cell_type": "code",
   "execution_count": 32,
   "metadata": {},
   "outputs": [],
   "source": [
    "new_features=['Number_Of_Wins_This_Season',\n",
    "       'Number_Of_First_Round_Draft_Picks', 'Average_Player_Age', 'Number_Of_Injured_Players'] #new features"
   ]
  },
  {
   "cell_type": "code",
   "execution_count": 33,
   "metadata": {},
   "outputs": [],
   "source": [
    "new_df=train_df[new_features]"
   ]
  },
  {
   "cell_type": "markdown",
   "metadata": {},
   "source": [
    "### defining X_train and Y_train"
   ]
  },
  {
   "cell_type": "code",
   "execution_count": 34,
   "metadata": {},
   "outputs": [],
   "source": [
    "X_train=new_df.values"
   ]
  },
  {
   "cell_type": "code",
   "execution_count": 35,
   "metadata": {},
   "outputs": [],
   "source": [
    "Y_train=train.Won_Championship.values"
   ]
  },
  {
   "cell_type": "markdown",
   "metadata": {},
   "source": [
    "### Models used"
   ]
  },
  {
   "cell_type": "code",
   "execution_count": 36,
   "metadata": {},
   "outputs": [],
   "source": [
    "from sklearn.linear_model import LogisticRegression\n",
    "from xgboost import XGBClassifier\n",
    "#from catboost import CatBoostClassifier\n",
    "#reg=LogisticRegression()\n",
    "#reg=CatBoostClassifier(iterations=2, learning_rate=1,depth=2)\n",
    "ran=RandomForestClassifier(random_state=1)\n",
    "#reg=Perceptron(random_state=1)\n",
    "#reg=KNeighborsClassifier()\n",
    "XGB=XGBClassifier()\n",
    "svc=SVC()"
   ]
  },
  {
   "cell_type": "code",
   "execution_count": 37,
   "metadata": {},
   "outputs": [
    {
     "data": {
      "text/plain": [
       "GridSearchCV(cv=5, error_score='raise-deprecating',\n",
       "       estimator=RandomForestClassifier(bootstrap=True, class_weight=None, criterion='gini',\n",
       "            max_depth=None, max_features='auto', max_leaf_nodes=None,\n",
       "            min_impurity_decrease=0.0, min_impurity_split=None,\n",
       "            min_samples_leaf=1, min_samples_split=2,\n",
       "            min_weight_fraction_leaf=0.0, n_estimators='warn', n_jobs=None,\n",
       "            oob_score=False, random_state=1, verbose=0, warm_start=False),\n",
       "       fit_params=None, iid='warn', n_jobs=None,\n",
       "       param_grid={'n_estimators': [50, 100, 200]},\n",
       "       pre_dispatch='2*n_jobs', refit=True, return_train_score='warn',\n",
       "       scoring=None, verbose=0)"
      ]
     },
     "execution_count": 37,
     "metadata": {},
     "output_type": "execute_result"
    }
   ],
   "source": [
    "params_rf = {'n_estimators': [50, 100, 200]}\n",
    "\n",
    "#use gridsearch to test all values for n_estimators\n",
    "rf_gs = GridSearchCV(ran, params_rf, cv=5)\n",
    "\n",
    "#fit model to training data\n",
    "rf_gs.fit(X_train, Y_train)"
   ]
  },
  {
   "cell_type": "code",
   "execution_count": 38,
   "metadata": {},
   "outputs": [
    {
     "name": "stdout",
     "output_type": "stream",
     "text": [
      "{'n_estimators': 50}\n"
     ]
    }
   ],
   "source": [
    "rf_best = rf_gs.best_estimator_\n",
    "\n",
    "#check best n_estimators value\n",
    "print(rf_gs.best_params_)"
   ]
  },
  {
   "cell_type": "code",
   "execution_count": 39,
   "metadata": {},
   "outputs": [
    {
     "name": "stderr",
     "output_type": "stream",
     "text": [
      "C:\\Users\\212764757\\AppData\\Local\\Continuum\\anaconda3\\lib\\site-packages\\sklearn\\linear_model\\logistic.py:433: FutureWarning: Default solver will be changed to 'lbfgs' in 0.22. Specify a solver to silence this warning.\n",
      "  FutureWarning)\n"
     ]
    },
    {
     "data": {
      "text/plain": [
       "LogisticRegression(C=1.0, class_weight=None, dual=False, fit_intercept=True,\n",
       "          intercept_scaling=1, max_iter=100, multi_class='warn',\n",
       "          n_jobs=None, penalty='l2', random_state=None, solver='warn',\n",
       "          tol=0.0001, verbose=0, warm_start=False)"
      ]
     },
     "execution_count": 39,
     "metadata": {},
     "output_type": "execute_result"
    }
   ],
   "source": [
    "log_reg = LogisticRegression()\n",
    "\n",
    "#fit the model to the training data\n",
    "log_reg.fit(X_train, Y_train)"
   ]
  },
  {
   "cell_type": "code",
   "execution_count": 40,
   "metadata": {},
   "outputs": [
    {
     "name": "stderr",
     "output_type": "stream",
     "text": [
      "C:\\Users\\212764757\\AppData\\Local\\Continuum\\anaconda3\\lib\\site-packages\\sklearn\\svm\\base.py:196: FutureWarning: The default value of gamma will change from 'auto' to 'scale' in version 0.22 to account better for unscaled features. Set gamma explicitly to 'auto' or 'scale' to avoid this warning.\n",
      "  \"avoid this warning.\", FutureWarning)\n"
     ]
    }
   ],
   "source": [
    "#ran=ran.fit(X_train,Y_train)\n",
    "XGB=XGB.fit(X_train,Y_train)\n",
    "svc=svc.fit(X_train,Y_train)"
   ]
  },
  {
   "cell_type": "code",
   "execution_count": 41,
   "metadata": {},
   "outputs": [],
   "source": [
    "#reg.feature_importances_"
   ]
  },
  {
   "cell_type": "code",
   "execution_count": 42,
   "metadata": {},
   "outputs": [
    {
     "data": {
      "text/html": [
       "<div>\n",
       "<style scoped>\n",
       "    .dataframe tbody tr th:only-of-type {\n",
       "        vertical-align: middle;\n",
       "    }\n",
       "\n",
       "    .dataframe tbody tr th {\n",
       "        vertical-align: top;\n",
       "    }\n",
       "\n",
       "    .dataframe thead th {\n",
       "        text-align: right;\n",
       "    }\n",
       "</style>\n",
       "<table border=\"1\" class=\"dataframe\">\n",
       "  <thead>\n",
       "    <tr style=\"text-align: right;\">\n",
       "      <th></th>\n",
       "      <th>Previous_SB_Wins</th>\n",
       "      <th>Number_Of_Wins_This_Season</th>\n",
       "      <th>Number_Of_First_Round_Draft_Picks</th>\n",
       "      <th>Team_Value</th>\n",
       "      <th>Playing_Style</th>\n",
       "      <th>Average_Player_Age</th>\n",
       "      <th>Number_Of_Injured_Players</th>\n",
       "      <th>Coach_Experience_Level</th>\n",
       "      <th>ID</th>\n",
       "    </tr>\n",
       "  </thead>\n",
       "  <tbody>\n",
       "    <tr>\n",
       "      <th>0</th>\n",
       "      <td>3</td>\n",
       "      <td>16</td>\n",
       "      <td>2</td>\n",
       "      <td>Above_Four_Billion</td>\n",
       "      <td>Relaxed</td>\n",
       "      <td>26</td>\n",
       "      <td>two</td>\n",
       "      <td>Intermediate</td>\n",
       "      <td>1</td>\n",
       "    </tr>\n",
       "    <tr>\n",
       "      <th>1</th>\n",
       "      <td>2</td>\n",
       "      <td>15</td>\n",
       "      <td>3</td>\n",
       "      <td>Less_Than_Four_Billion</td>\n",
       "      <td>Balanced</td>\n",
       "      <td>26</td>\n",
       "      <td>six</td>\n",
       "      <td>Advanced</td>\n",
       "      <td>5</td>\n",
       "    </tr>\n",
       "    <tr>\n",
       "      <th>2</th>\n",
       "      <td>2</td>\n",
       "      <td>10</td>\n",
       "      <td>1</td>\n",
       "      <td>Less_Than_Four_Billion</td>\n",
       "      <td>Balanced</td>\n",
       "      <td>27</td>\n",
       "      <td>nine</td>\n",
       "      <td>Beginner</td>\n",
       "      <td>6</td>\n",
       "    </tr>\n",
       "    <tr>\n",
       "      <th>3</th>\n",
       "      <td>3</td>\n",
       "      <td>14</td>\n",
       "      <td>3</td>\n",
       "      <td>Less_Than_Four_Billion</td>\n",
       "      <td>Balanced</td>\n",
       "      <td>26</td>\n",
       "      <td>seven</td>\n",
       "      <td>Intermediate</td>\n",
       "      <td>7</td>\n",
       "    </tr>\n",
       "    <tr>\n",
       "      <th>4</th>\n",
       "      <td>3</td>\n",
       "      <td>13</td>\n",
       "      <td>2</td>\n",
       "      <td>Less_Than_Four_Billion</td>\n",
       "      <td>Balanced</td>\n",
       "      <td>27</td>\n",
       "      <td>three</td>\n",
       "      <td>Intermediate</td>\n",
       "      <td>9</td>\n",
       "    </tr>\n",
       "  </tbody>\n",
       "</table>\n",
       "</div>"
      ],
      "text/plain": [
       "   Previous_SB_Wins  Number_Of_Wins_This_Season  \\\n",
       "0                 3                          16   \n",
       "1                 2                          15   \n",
       "2                 2                          10   \n",
       "3                 3                          14   \n",
       "4                 3                          13   \n",
       "\n",
       "   Number_Of_First_Round_Draft_Picks              Team_Value Playing_Style  \\\n",
       "0                                  2      Above_Four_Billion       Relaxed   \n",
       "1                                  3  Less_Than_Four_Billion      Balanced   \n",
       "2                                  1  Less_Than_Four_Billion      Balanced   \n",
       "3                                  3  Less_Than_Four_Billion      Balanced   \n",
       "4                                  2  Less_Than_Four_Billion      Balanced   \n",
       "\n",
       "   Average_Player_Age Number_Of_Injured_Players Coach_Experience_Level  ID  \n",
       "0                  26                       two           Intermediate   1  \n",
       "1                  26                       six               Advanced   5  \n",
       "2                  27                      nine               Beginner   6  \n",
       "3                  26                     seven           Intermediate   7  \n",
       "4                  27                     three           Intermediate   9  "
      ]
     },
     "execution_count": 42,
     "metadata": {},
     "output_type": "execute_result"
    }
   ],
   "source": [
    "test.head()"
   ]
  },
  {
   "cell_type": "code",
   "execution_count": 43,
   "metadata": {},
   "outputs": [],
   "source": [
    "test_df=test[features]"
   ]
  },
  {
   "cell_type": "code",
   "execution_count": 44,
   "metadata": {},
   "outputs": [
    {
     "name": "stderr",
     "output_type": "stream",
     "text": [
      "C:\\Users\\212764757\\AppData\\Local\\Continuum\\anaconda3\\lib\\site-packages\\pandas\\core\\generic.py:5096: SettingWithCopyWarning: \n",
      "A value is trying to be set on a copy of a slice from a DataFrame.\n",
      "Try using .loc[row_indexer,col_indexer] = value instead\n",
      "\n",
      "See the caveats in the documentation: http://pandas.pydata.org/pandas-docs/stable/indexing.html#indexing-view-versus-copy\n",
      "  self[name] = value\n"
     ]
    }
   ],
   "source": [
    "test_df.Team_Value=test_df.Team_Value.replace(mapper)"
   ]
  },
  {
   "cell_type": "code",
   "execution_count": 45,
   "metadata": {},
   "outputs": [],
   "source": [
    "test_df.Number_Of_Injured_Players=test_df.Number_Of_Injured_Players.replace(mapper2)"
   ]
  },
  {
   "cell_type": "code",
   "execution_count": 46,
   "metadata": {},
   "outputs": [],
   "source": [
    "test_df.Coach_Experience_Level=test_df.Coach_Experience_Level.replace(mapper3)"
   ]
  },
  {
   "cell_type": "code",
   "execution_count": 47,
   "metadata": {},
   "outputs": [],
   "source": [
    "#test_df.drop([\"Coach_Experience_Level\",\"Team_Value\"],axis=1,inplace=True)"
   ]
  },
  {
   "cell_type": "code",
   "execution_count": 48,
   "metadata": {},
   "outputs": [],
   "source": [
    "test_df=pd.get_dummies(test_df,drop_first=True)"
   ]
  },
  {
   "cell_type": "code",
   "execution_count": 49,
   "metadata": {},
   "outputs": [],
   "source": [
    "new_test=test_df[new_features].values"
   ]
  },
  {
   "cell_type": "code",
   "execution_count": 50,
   "metadata": {},
   "outputs": [
    {
     "data": {
      "text/plain": [
       "(3500, 4)"
      ]
     },
     "execution_count": 50,
     "metadata": {},
     "output_type": "execute_result"
    }
   ],
   "source": [
    "new_test.shape"
   ]
  },
  {
   "cell_type": "code",
   "execution_count": 51,
   "metadata": {},
   "outputs": [
    {
     "data": {
      "text/plain": [
       "array([[16,  2, 26,  2],\n",
       "       [15,  3, 26,  6],\n",
       "       [10,  1, 27,  9],\n",
       "       ...,\n",
       "       [13,  2, 27,  7],\n",
       "       [15,  2, 26,  4],\n",
       "       [15,  2, 27,  3]], dtype=int64)"
      ]
     },
     "execution_count": 51,
     "metadata": {},
     "output_type": "execute_result"
    }
   ],
   "source": [
    "new_test"
   ]
  },
  {
   "cell_type": "markdown",
   "metadata": {},
   "source": [
    "### using an ensemble technique to combine more than 1 first level models"
   ]
  },
  {
   "cell_type": "code",
   "execution_count": 52,
   "metadata": {},
   "outputs": [],
   "source": [
    "from sklearn.ensemble import VotingClassifier\n",
    "new_model=VotingClassifier(estimators=[('XGB',XGB),('ran',rf_best), ('log_reg', log_reg)], voting='soft',weights=[1,3,1]) "
   ]
  },
  {
   "cell_type": "code",
   "execution_count": 53,
   "metadata": {},
   "outputs": [
    {
     "name": "stderr",
     "output_type": "stream",
     "text": [
      "C:\\Users\\212764757\\AppData\\Local\\Continuum\\anaconda3\\lib\\site-packages\\sklearn\\linear_model\\logistic.py:433: FutureWarning: Default solver will be changed to 'lbfgs' in 0.22. Specify a solver to silence this warning.\n",
      "  FutureWarning)\n"
     ]
    },
    {
     "data": {
      "text/plain": [
       "VotingClassifier(estimators=[('XGB', XGBClassifier(base_score=0.5, booster='gbtree', colsample_bylevel=1,\n",
       "       colsample_bynode=1, colsample_bytree=1, gamma=0, learning_rate=0.1,\n",
       "       max_delta_step=0, max_depth=3, min_child_weight=1, missing=None,\n",
       "       n_estimators=100, n_jobs=1, nthread=None,\n",
       "       objectiv...penalty='l2', random_state=None, solver='warn',\n",
       "          tol=0.0001, verbose=0, warm_start=False))],\n",
       "         flatten_transform=None, n_jobs=None, voting='soft',\n",
       "         weights=[1, 3, 1])"
      ]
     },
     "execution_count": 53,
     "metadata": {},
     "output_type": "execute_result"
    }
   ],
   "source": [
    "new_model.fit(X_train,Y_train)"
   ]
  },
  {
   "cell_type": "code",
   "execution_count": 54,
   "metadata": {},
   "outputs": [],
   "source": [
    "Y_pred=new_model.predict(new_test)"
   ]
  },
  {
   "cell_type": "code",
   "execution_count": 55,
   "metadata": {},
   "outputs": [
    {
     "data": {
      "text/plain": [
       "array([0, 1, 0, ..., 0, 0, 0], dtype=int64)"
      ]
     },
     "execution_count": 55,
     "metadata": {},
     "output_type": "execute_result"
    }
   ],
   "source": [
    "Y_pred"
   ]
  },
  {
   "cell_type": "code",
   "execution_count": 56,
   "metadata": {},
   "outputs": [],
   "source": [
    "data={\"ID\":test.ID,\"Won_Championship\":Y_pred}"
   ]
  },
  {
   "cell_type": "code",
   "execution_count": 57,
   "metadata": {},
   "outputs": [],
   "source": [
    "sub=pd.DataFrame(data)"
   ]
  },
  {
   "cell_type": "code",
   "execution_count": 58,
   "metadata": {},
   "outputs": [],
   "source": [
    "sub.to_csv(\"HackEarSubRF+XGB+LogReg.csv\",index=False)"
   ]
  }
 ],
 "metadata": {
  "kernelspec": {
   "display_name": "Python 3",
   "language": "python",
   "name": "python3"
  },
  "language_info": {
   "codemirror_mode": {
    "name": "ipython",
    "version": 3
   },
   "file_extension": ".py",
   "mimetype": "text/x-python",
   "name": "python",
   "nbconvert_exporter": "python",
   "pygments_lexer": "ipython3",
   "version": "3.7.3"
  }
 },
 "nbformat": 4,
 "nbformat_minor": 2
}
